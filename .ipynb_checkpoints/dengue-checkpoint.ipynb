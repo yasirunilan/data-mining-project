{
 "cells": [
  {
   "cell_type": "code",
   "execution_count": 30,
   "metadata": {
    "collapsed": true
   },
   "outputs": [],
   "source": [
    "%matplotlib inline\n",
    "\n",
    "from __future__ import print_function\n",
    "from __future__ import division\n",
    "\n",
    "import pandas as pd\n",
    "import numpy as np\n",
    "\n",
    "from matplotlib import pyplot as plt\n",
    "import seaborn as sns\n",
    "\n",
    "from sklearn.model_selection import train_test_split\n",
    "import statsmodels.api as sm\n",
    "\n",
    "# just for the sake of this blog post!\n",
    "from warnings import filterwarnings\n",
    "filterwarnings('ignore')"
   ]
  },
  {
   "cell_type": "code",
   "execution_count": 31,
   "metadata": {
    "collapsed": true
   },
   "outputs": [],
   "source": [
    "train_features = pd.read_csv('data-processed/dengue_features_train.csv',\n",
    "                             index_col=[0,1,2])\n",
    "\n",
    "train_labels = pd.read_csv('data-processed/dengue_labels_train.csv',\n",
    "                           index_col=[0,1,2])"
   ]
  },
  {
   "cell_type": "code",
   "execution_count": 32,
   "metadata": {
    "collapsed": true
   },
   "outputs": [],
   "source": [
    "# Seperate data for San Juan\n",
    "sj_train_features = train_features.loc['sj']\n",
    "sj_train_labels = train_labels.loc['sj']\n",
    "\n",
    "# Separate data for Iquitos\n",
    "iq_train_features = train_features.loc['iq']\n",
    "iq_train_labels = train_labels.loc['iq']"
   ]
  },
  {
   "cell_type": "code",
   "execution_count": 33,
   "metadata": {},
   "outputs": [
    {
     "name": "stdout",
     "output_type": "stream",
     "text": [
      "San Juan\n",
      "features:  (936, 21)\n",
      "labels  :  (936, 1)\n",
      "\n",
      "Iquitos\n",
      "features:  (520, 21)\n",
      "labels  :  (520, 1)\n"
     ]
    }
   ],
   "source": [
    "print('San Juan')\n",
    "print('features: ', sj_train_features.shape)\n",
    "print('labels  : ', sj_train_labels.shape)\n",
    "\n",
    "print('\\nIquitos')\n",
    "print('features: ', iq_train_features.shape)\n",
    "print('labels  : ', iq_train_labels.shape)"
   ]
  },
  {
   "cell_type": "code",
   "execution_count": 34,
   "metadata": {},
   "outputs": [
    {
     "data": {
      "text/html": [
       "<div>\n",
       "<table border=\"1\" class=\"dataframe\">\n",
       "  <thead>\n",
       "    <tr style=\"text-align: right;\">\n",
       "      <th></th>\n",
       "      <th></th>\n",
       "      <th>week_start_date</th>\n",
       "      <th>ndvi_ne</th>\n",
       "      <th>ndvi_nw</th>\n",
       "      <th>ndvi_se</th>\n",
       "      <th>ndvi_sw</th>\n",
       "      <th>precipitation_amt_mm</th>\n",
       "      <th>reanalysis_air_temp_k</th>\n",
       "      <th>reanalysis_avg_temp_k</th>\n",
       "      <th>reanalysis_dew_point_temp_k</th>\n",
       "      <th>reanalysis_max_air_temp_k</th>\n",
       "      <th>...</th>\n",
       "      <th>reanalysis_precip_amt_kg_per_m2</th>\n",
       "      <th>reanalysis_relative_humidity_percent</th>\n",
       "      <th>reanalysis_sat_precip_amt_mm</th>\n",
       "      <th>reanalysis_specific_humidity_g_per_kg</th>\n",
       "      <th>reanalysis_tdtr_k</th>\n",
       "      <th>station_avg_temp_c</th>\n",
       "      <th>station_diur_temp_rng_c</th>\n",
       "      <th>station_max_temp_c</th>\n",
       "      <th>station_min_temp_c</th>\n",
       "      <th>station_precip_mm</th>\n",
       "    </tr>\n",
       "    <tr>\n",
       "      <th>year</th>\n",
       "      <th>weekofyear</th>\n",
       "      <th></th>\n",
       "      <th></th>\n",
       "      <th></th>\n",
       "      <th></th>\n",
       "      <th></th>\n",
       "      <th></th>\n",
       "      <th></th>\n",
       "      <th></th>\n",
       "      <th></th>\n",
       "      <th></th>\n",
       "      <th></th>\n",
       "      <th></th>\n",
       "      <th></th>\n",
       "      <th></th>\n",
       "      <th></th>\n",
       "      <th></th>\n",
       "      <th></th>\n",
       "      <th></th>\n",
       "      <th></th>\n",
       "      <th></th>\n",
       "      <th></th>\n",
       "    </tr>\n",
       "  </thead>\n",
       "  <tbody>\n",
       "    <tr>\n",
       "      <th rowspan=\"5\" valign=\"top\">1990</th>\n",
       "      <th>18</th>\n",
       "      <td>1990-04-30</td>\n",
       "      <td>0.122600</td>\n",
       "      <td>0.103725</td>\n",
       "      <td>0.198483</td>\n",
       "      <td>0.177617</td>\n",
       "      <td>12.42</td>\n",
       "      <td>297.572857</td>\n",
       "      <td>297.742857</td>\n",
       "      <td>292.414286</td>\n",
       "      <td>299.8</td>\n",
       "      <td>...</td>\n",
       "      <td>32.00</td>\n",
       "      <td>73.365714</td>\n",
       "      <td>12.42</td>\n",
       "      <td>14.012857</td>\n",
       "      <td>2.628571</td>\n",
       "      <td>25.442857</td>\n",
       "      <td>6.900000</td>\n",
       "      <td>29.4</td>\n",
       "      <td>20.0</td>\n",
       "      <td>16.0</td>\n",
       "    </tr>\n",
       "    <tr>\n",
       "      <th>19</th>\n",
       "      <td>1990-05-07</td>\n",
       "      <td>0.169900</td>\n",
       "      <td>0.142175</td>\n",
       "      <td>0.162357</td>\n",
       "      <td>0.155486</td>\n",
       "      <td>22.82</td>\n",
       "      <td>298.211429</td>\n",
       "      <td>298.442857</td>\n",
       "      <td>293.951429</td>\n",
       "      <td>300.9</td>\n",
       "      <td>...</td>\n",
       "      <td>17.94</td>\n",
       "      <td>77.368571</td>\n",
       "      <td>22.82</td>\n",
       "      <td>15.372857</td>\n",
       "      <td>2.371429</td>\n",
       "      <td>26.714286</td>\n",
       "      <td>6.371429</td>\n",
       "      <td>31.7</td>\n",
       "      <td>22.2</td>\n",
       "      <td>8.6</td>\n",
       "    </tr>\n",
       "    <tr>\n",
       "      <th>20</th>\n",
       "      <td>1990-05-14</td>\n",
       "      <td>0.032250</td>\n",
       "      <td>0.172967</td>\n",
       "      <td>0.157200</td>\n",
       "      <td>0.170843</td>\n",
       "      <td>34.54</td>\n",
       "      <td>298.781429</td>\n",
       "      <td>298.878571</td>\n",
       "      <td>295.434286</td>\n",
       "      <td>300.5</td>\n",
       "      <td>...</td>\n",
       "      <td>26.10</td>\n",
       "      <td>82.052857</td>\n",
       "      <td>34.54</td>\n",
       "      <td>16.848571</td>\n",
       "      <td>2.300000</td>\n",
       "      <td>26.714286</td>\n",
       "      <td>6.485714</td>\n",
       "      <td>32.2</td>\n",
       "      <td>22.8</td>\n",
       "      <td>41.4</td>\n",
       "    </tr>\n",
       "    <tr>\n",
       "      <th>21</th>\n",
       "      <td>1990-05-21</td>\n",
       "      <td>0.128633</td>\n",
       "      <td>0.245067</td>\n",
       "      <td>0.227557</td>\n",
       "      <td>0.235886</td>\n",
       "      <td>15.36</td>\n",
       "      <td>298.987143</td>\n",
       "      <td>299.228571</td>\n",
       "      <td>295.310000</td>\n",
       "      <td>301.4</td>\n",
       "      <td>...</td>\n",
       "      <td>13.90</td>\n",
       "      <td>80.337143</td>\n",
       "      <td>15.36</td>\n",
       "      <td>16.672857</td>\n",
       "      <td>2.428571</td>\n",
       "      <td>27.471429</td>\n",
       "      <td>6.771429</td>\n",
       "      <td>33.3</td>\n",
       "      <td>23.3</td>\n",
       "      <td>4.0</td>\n",
       "    </tr>\n",
       "    <tr>\n",
       "      <th>22</th>\n",
       "      <td>1990-05-28</td>\n",
       "      <td>0.196200</td>\n",
       "      <td>0.262200</td>\n",
       "      <td>0.251200</td>\n",
       "      <td>0.247340</td>\n",
       "      <td>7.52</td>\n",
       "      <td>299.518571</td>\n",
       "      <td>299.664286</td>\n",
       "      <td>295.821429</td>\n",
       "      <td>301.9</td>\n",
       "      <td>...</td>\n",
       "      <td>12.20</td>\n",
       "      <td>80.460000</td>\n",
       "      <td>7.52</td>\n",
       "      <td>17.210000</td>\n",
       "      <td>3.014286</td>\n",
       "      <td>28.942857</td>\n",
       "      <td>9.371429</td>\n",
       "      <td>35.0</td>\n",
       "      <td>23.9</td>\n",
       "      <td>5.8</td>\n",
       "    </tr>\n",
       "  </tbody>\n",
       "</table>\n",
       "<p>5 rows × 21 columns</p>\n",
       "</div>"
      ],
      "text/plain": [
       "                week_start_date   ndvi_ne   ndvi_nw   ndvi_se   ndvi_sw  \\\n",
       "year weekofyear                                                           \n",
       "1990 18              1990-04-30  0.122600  0.103725  0.198483  0.177617   \n",
       "     19              1990-05-07  0.169900  0.142175  0.162357  0.155486   \n",
       "     20              1990-05-14  0.032250  0.172967  0.157200  0.170843   \n",
       "     21              1990-05-21  0.128633  0.245067  0.227557  0.235886   \n",
       "     22              1990-05-28  0.196200  0.262200  0.251200  0.247340   \n",
       "\n",
       "                 precipitation_amt_mm  reanalysis_air_temp_k  \\\n",
       "year weekofyear                                                \n",
       "1990 18                         12.42             297.572857   \n",
       "     19                         22.82             298.211429   \n",
       "     20                         34.54             298.781429   \n",
       "     21                         15.36             298.987143   \n",
       "     22                          7.52             299.518571   \n",
       "\n",
       "                 reanalysis_avg_temp_k  reanalysis_dew_point_temp_k  \\\n",
       "year weekofyear                                                       \n",
       "1990 18                     297.742857                   292.414286   \n",
       "     19                     298.442857                   293.951429   \n",
       "     20                     298.878571                   295.434286   \n",
       "     21                     299.228571                   295.310000   \n",
       "     22                     299.664286                   295.821429   \n",
       "\n",
       "                 reanalysis_max_air_temp_k        ...          \\\n",
       "year weekofyear                                   ...           \n",
       "1990 18                              299.8        ...           \n",
       "     19                              300.9        ...           \n",
       "     20                              300.5        ...           \n",
       "     21                              301.4        ...           \n",
       "     22                              301.9        ...           \n",
       "\n",
       "                 reanalysis_precip_amt_kg_per_m2  \\\n",
       "year weekofyear                                    \n",
       "1990 18                                    32.00   \n",
       "     19                                    17.94   \n",
       "     20                                    26.10   \n",
       "     21                                    13.90   \n",
       "     22                                    12.20   \n",
       "\n",
       "                 reanalysis_relative_humidity_percent  \\\n",
       "year weekofyear                                         \n",
       "1990 18                                     73.365714   \n",
       "     19                                     77.368571   \n",
       "     20                                     82.052857   \n",
       "     21                                     80.337143   \n",
       "     22                                     80.460000   \n",
       "\n",
       "                 reanalysis_sat_precip_amt_mm  \\\n",
       "year weekofyear                                 \n",
       "1990 18                                 12.42   \n",
       "     19                                 22.82   \n",
       "     20                                 34.54   \n",
       "     21                                 15.36   \n",
       "     22                                  7.52   \n",
       "\n",
       "                 reanalysis_specific_humidity_g_per_kg  reanalysis_tdtr_k  \\\n",
       "year weekofyear                                                             \n",
       "1990 18                                      14.012857           2.628571   \n",
       "     19                                      15.372857           2.371429   \n",
       "     20                                      16.848571           2.300000   \n",
       "     21                                      16.672857           2.428571   \n",
       "     22                                      17.210000           3.014286   \n",
       "\n",
       "                 station_avg_temp_c  station_diur_temp_rng_c  \\\n",
       "year weekofyear                                                \n",
       "1990 18                   25.442857                 6.900000   \n",
       "     19                   26.714286                 6.371429   \n",
       "     20                   26.714286                 6.485714   \n",
       "     21                   27.471429                 6.771429   \n",
       "     22                   28.942857                 9.371429   \n",
       "\n",
       "                 station_max_temp_c  station_min_temp_c  station_precip_mm  \n",
       "year weekofyear                                                             \n",
       "1990 18                        29.4                20.0               16.0  \n",
       "     19                        31.7                22.2                8.6  \n",
       "     20                        32.2                22.8               41.4  \n",
       "     21                        33.3                23.3                4.0  \n",
       "     22                        35.0                23.9                5.8  \n",
       "\n",
       "[5 rows x 21 columns]"
      ]
     },
     "execution_count": 34,
     "metadata": {},
     "output_type": "execute_result"
    }
   ],
   "source": [
    "sj_train_features.head()"
   ]
  },
  {
   "cell_type": "code",
   "execution_count": 35,
   "metadata": {},
   "outputs": [
    {
     "data": {
      "text/html": [
       "<div>\n",
       "<table border=\"1\" class=\"dataframe\">\n",
       "  <thead>\n",
       "    <tr style=\"text-align: right;\">\n",
       "      <th></th>\n",
       "      <th></th>\n",
       "      <th>total_cases</th>\n",
       "    </tr>\n",
       "    <tr>\n",
       "      <th>year</th>\n",
       "      <th>weekofyear</th>\n",
       "      <th></th>\n",
       "    </tr>\n",
       "  </thead>\n",
       "  <tbody>\n",
       "    <tr>\n",
       "      <th rowspan=\"5\" valign=\"top\">1990</th>\n",
       "      <th>18</th>\n",
       "      <td>4</td>\n",
       "    </tr>\n",
       "    <tr>\n",
       "      <th>19</th>\n",
       "      <td>5</td>\n",
       "    </tr>\n",
       "    <tr>\n",
       "      <th>20</th>\n",
       "      <td>4</td>\n",
       "    </tr>\n",
       "    <tr>\n",
       "      <th>21</th>\n",
       "      <td>3</td>\n",
       "    </tr>\n",
       "    <tr>\n",
       "      <th>22</th>\n",
       "      <td>6</td>\n",
       "    </tr>\n",
       "  </tbody>\n",
       "</table>\n",
       "</div>"
      ],
      "text/plain": [
       "                 total_cases\n",
       "year weekofyear             \n",
       "1990 18                    4\n",
       "     19                    5\n",
       "     20                    4\n",
       "     21                    3\n",
       "     22                    6"
      ]
     },
     "execution_count": 35,
     "metadata": {},
     "output_type": "execute_result"
    }
   ],
   "source": [
    "sj_train_labels.head()"
   ]
  },
  {
   "cell_type": "code",
   "execution_count": 36,
   "metadata": {
    "collapsed": true
   },
   "outputs": [],
   "source": [
    "# Remove `week_start_date` string.\n",
    "sj_train_features.drop('week_start_date', axis=1, inplace=True)\n",
    "iq_train_features.drop('week_start_date', axis=1, inplace=True)"
   ]
  },
  {
   "cell_type": "code",
   "execution_count": 37,
   "metadata": {},
   "outputs": [
    {
     "data": {
      "text/html": [
       "<div>\n",
       "<table border=\"1\" class=\"dataframe\">\n",
       "  <thead>\n",
       "    <tr style=\"text-align: right;\">\n",
       "      <th></th>\n",
       "      <th></th>\n",
       "      <th>ndvi_ne</th>\n",
       "      <th>ndvi_nw</th>\n",
       "      <th>ndvi_se</th>\n",
       "      <th>ndvi_sw</th>\n",
       "      <th>precipitation_amt_mm</th>\n",
       "      <th>reanalysis_air_temp_k</th>\n",
       "      <th>reanalysis_avg_temp_k</th>\n",
       "      <th>reanalysis_dew_point_temp_k</th>\n",
       "      <th>reanalysis_max_air_temp_k</th>\n",
       "      <th>reanalysis_min_air_temp_k</th>\n",
       "      <th>reanalysis_precip_amt_kg_per_m2</th>\n",
       "      <th>reanalysis_relative_humidity_percent</th>\n",
       "      <th>reanalysis_sat_precip_amt_mm</th>\n",
       "      <th>reanalysis_specific_humidity_g_per_kg</th>\n",
       "      <th>reanalysis_tdtr_k</th>\n",
       "      <th>station_avg_temp_c</th>\n",
       "      <th>station_diur_temp_rng_c</th>\n",
       "      <th>station_max_temp_c</th>\n",
       "      <th>station_min_temp_c</th>\n",
       "      <th>station_precip_mm</th>\n",
       "    </tr>\n",
       "    <tr>\n",
       "      <th>year</th>\n",
       "      <th>weekofyear</th>\n",
       "      <th></th>\n",
       "      <th></th>\n",
       "      <th></th>\n",
       "      <th></th>\n",
       "      <th></th>\n",
       "      <th></th>\n",
       "      <th></th>\n",
       "      <th></th>\n",
       "      <th></th>\n",
       "      <th></th>\n",
       "      <th></th>\n",
       "      <th></th>\n",
       "      <th></th>\n",
       "      <th></th>\n",
       "      <th></th>\n",
       "      <th></th>\n",
       "      <th></th>\n",
       "      <th></th>\n",
       "      <th></th>\n",
       "      <th></th>\n",
       "    </tr>\n",
       "  </thead>\n",
       "  <tbody>\n",
       "    <tr>\n",
       "      <th rowspan=\"5\" valign=\"top\">1990</th>\n",
       "      <th>18</th>\n",
       "      <td>0.122600</td>\n",
       "      <td>0.103725</td>\n",
       "      <td>0.198483</td>\n",
       "      <td>0.177617</td>\n",
       "      <td>12.42</td>\n",
       "      <td>297.572857</td>\n",
       "      <td>297.742857</td>\n",
       "      <td>292.414286</td>\n",
       "      <td>299.8</td>\n",
       "      <td>295.9</td>\n",
       "      <td>32.00</td>\n",
       "      <td>73.365714</td>\n",
       "      <td>12.42</td>\n",
       "      <td>14.012857</td>\n",
       "      <td>2.628571</td>\n",
       "      <td>25.442857</td>\n",
       "      <td>6.900000</td>\n",
       "      <td>29.4</td>\n",
       "      <td>20.0</td>\n",
       "      <td>16.0</td>\n",
       "    </tr>\n",
       "    <tr>\n",
       "      <th>19</th>\n",
       "      <td>0.169900</td>\n",
       "      <td>0.142175</td>\n",
       "      <td>0.162357</td>\n",
       "      <td>0.155486</td>\n",
       "      <td>22.82</td>\n",
       "      <td>298.211429</td>\n",
       "      <td>298.442857</td>\n",
       "      <td>293.951429</td>\n",
       "      <td>300.9</td>\n",
       "      <td>296.4</td>\n",
       "      <td>17.94</td>\n",
       "      <td>77.368571</td>\n",
       "      <td>22.82</td>\n",
       "      <td>15.372857</td>\n",
       "      <td>2.371429</td>\n",
       "      <td>26.714286</td>\n",
       "      <td>6.371429</td>\n",
       "      <td>31.7</td>\n",
       "      <td>22.2</td>\n",
       "      <td>8.6</td>\n",
       "    </tr>\n",
       "    <tr>\n",
       "      <th>20</th>\n",
       "      <td>0.032250</td>\n",
       "      <td>0.172967</td>\n",
       "      <td>0.157200</td>\n",
       "      <td>0.170843</td>\n",
       "      <td>34.54</td>\n",
       "      <td>298.781429</td>\n",
       "      <td>298.878571</td>\n",
       "      <td>295.434286</td>\n",
       "      <td>300.5</td>\n",
       "      <td>297.3</td>\n",
       "      <td>26.10</td>\n",
       "      <td>82.052857</td>\n",
       "      <td>34.54</td>\n",
       "      <td>16.848571</td>\n",
       "      <td>2.300000</td>\n",
       "      <td>26.714286</td>\n",
       "      <td>6.485714</td>\n",
       "      <td>32.2</td>\n",
       "      <td>22.8</td>\n",
       "      <td>41.4</td>\n",
       "    </tr>\n",
       "    <tr>\n",
       "      <th>21</th>\n",
       "      <td>0.128633</td>\n",
       "      <td>0.245067</td>\n",
       "      <td>0.227557</td>\n",
       "      <td>0.235886</td>\n",
       "      <td>15.36</td>\n",
       "      <td>298.987143</td>\n",
       "      <td>299.228571</td>\n",
       "      <td>295.310000</td>\n",
       "      <td>301.4</td>\n",
       "      <td>297.0</td>\n",
       "      <td>13.90</td>\n",
       "      <td>80.337143</td>\n",
       "      <td>15.36</td>\n",
       "      <td>16.672857</td>\n",
       "      <td>2.428571</td>\n",
       "      <td>27.471429</td>\n",
       "      <td>6.771429</td>\n",
       "      <td>33.3</td>\n",
       "      <td>23.3</td>\n",
       "      <td>4.0</td>\n",
       "    </tr>\n",
       "    <tr>\n",
       "      <th>22</th>\n",
       "      <td>0.196200</td>\n",
       "      <td>0.262200</td>\n",
       "      <td>0.251200</td>\n",
       "      <td>0.247340</td>\n",
       "      <td>7.52</td>\n",
       "      <td>299.518571</td>\n",
       "      <td>299.664286</td>\n",
       "      <td>295.821429</td>\n",
       "      <td>301.9</td>\n",
       "      <td>297.5</td>\n",
       "      <td>12.20</td>\n",
       "      <td>80.460000</td>\n",
       "      <td>7.52</td>\n",
       "      <td>17.210000</td>\n",
       "      <td>3.014286</td>\n",
       "      <td>28.942857</td>\n",
       "      <td>9.371429</td>\n",
       "      <td>35.0</td>\n",
       "      <td>23.9</td>\n",
       "      <td>5.8</td>\n",
       "    </tr>\n",
       "  </tbody>\n",
       "</table>\n",
       "</div>"
      ],
      "text/plain": [
       "                  ndvi_ne   ndvi_nw   ndvi_se   ndvi_sw  precipitation_amt_mm  \\\n",
       "year weekofyear                                                                 \n",
       "1990 18          0.122600  0.103725  0.198483  0.177617                 12.42   \n",
       "     19          0.169900  0.142175  0.162357  0.155486                 22.82   \n",
       "     20          0.032250  0.172967  0.157200  0.170843                 34.54   \n",
       "     21          0.128633  0.245067  0.227557  0.235886                 15.36   \n",
       "     22          0.196200  0.262200  0.251200  0.247340                  7.52   \n",
       "\n",
       "                 reanalysis_air_temp_k  reanalysis_avg_temp_k  \\\n",
       "year weekofyear                                                 \n",
       "1990 18                     297.572857             297.742857   \n",
       "     19                     298.211429             298.442857   \n",
       "     20                     298.781429             298.878571   \n",
       "     21                     298.987143             299.228571   \n",
       "     22                     299.518571             299.664286   \n",
       "\n",
       "                 reanalysis_dew_point_temp_k  reanalysis_max_air_temp_k  \\\n",
       "year weekofyear                                                           \n",
       "1990 18                           292.414286                      299.8   \n",
       "     19                           293.951429                      300.9   \n",
       "     20                           295.434286                      300.5   \n",
       "     21                           295.310000                      301.4   \n",
       "     22                           295.821429                      301.9   \n",
       "\n",
       "                 reanalysis_min_air_temp_k  reanalysis_precip_amt_kg_per_m2  \\\n",
       "year weekofyear                                                               \n",
       "1990 18                              295.9                            32.00   \n",
       "     19                              296.4                            17.94   \n",
       "     20                              297.3                            26.10   \n",
       "     21                              297.0                            13.90   \n",
       "     22                              297.5                            12.20   \n",
       "\n",
       "                 reanalysis_relative_humidity_percent  \\\n",
       "year weekofyear                                         \n",
       "1990 18                                     73.365714   \n",
       "     19                                     77.368571   \n",
       "     20                                     82.052857   \n",
       "     21                                     80.337143   \n",
       "     22                                     80.460000   \n",
       "\n",
       "                 reanalysis_sat_precip_amt_mm  \\\n",
       "year weekofyear                                 \n",
       "1990 18                                 12.42   \n",
       "     19                                 22.82   \n",
       "     20                                 34.54   \n",
       "     21                                 15.36   \n",
       "     22                                  7.52   \n",
       "\n",
       "                 reanalysis_specific_humidity_g_per_kg  reanalysis_tdtr_k  \\\n",
       "year weekofyear                                                             \n",
       "1990 18                                      14.012857           2.628571   \n",
       "     19                                      15.372857           2.371429   \n",
       "     20                                      16.848571           2.300000   \n",
       "     21                                      16.672857           2.428571   \n",
       "     22                                      17.210000           3.014286   \n",
       "\n",
       "                 station_avg_temp_c  station_diur_temp_rng_c  \\\n",
       "year weekofyear                                                \n",
       "1990 18                   25.442857                 6.900000   \n",
       "     19                   26.714286                 6.371429   \n",
       "     20                   26.714286                 6.485714   \n",
       "     21                   27.471429                 6.771429   \n",
       "     22                   28.942857                 9.371429   \n",
       "\n",
       "                 station_max_temp_c  station_min_temp_c  station_precip_mm  \n",
       "year weekofyear                                                             \n",
       "1990 18                        29.4                20.0               16.0  \n",
       "     19                        31.7                22.2                8.6  \n",
       "     20                        32.2                22.8               41.4  \n",
       "     21                        33.3                23.3                4.0  \n",
       "     22                        35.0                23.9                5.8  "
      ]
     },
     "execution_count": 37,
     "metadata": {},
     "output_type": "execute_result"
    }
   ],
   "source": [
    "sj_train_features.head()"
   ]
  },
  {
   "cell_type": "code",
   "execution_count": 38,
   "metadata": {},
   "outputs": [
    {
     "data": {
      "text/plain": [
       "ndvi_ne                                  True\n",
       "ndvi_nw                                  True\n",
       "ndvi_se                                  True\n",
       "ndvi_sw                                  True\n",
       "precipitation_amt_mm                     True\n",
       "reanalysis_air_temp_k                    True\n",
       "reanalysis_avg_temp_k                    True\n",
       "reanalysis_dew_point_temp_k              True\n",
       "reanalysis_max_air_temp_k                True\n",
       "reanalysis_min_air_temp_k                True\n",
       "reanalysis_precip_amt_kg_per_m2          True\n",
       "reanalysis_relative_humidity_percent     True\n",
       "reanalysis_sat_precip_amt_mm             True\n",
       "reanalysis_specific_humidity_g_per_kg    True\n",
       "reanalysis_tdtr_k                        True\n",
       "station_avg_temp_c                       True\n",
       "station_diur_temp_rng_c                  True\n",
       "station_max_temp_c                       True\n",
       "station_min_temp_c                       True\n",
       "station_precip_mm                        True\n",
       "dtype: bool"
      ]
     },
     "execution_count": 38,
     "metadata": {},
     "output_type": "execute_result"
    }
   ],
   "source": [
    "# Null check\n",
    "pd.isnull(sj_train_features).any()"
   ]
  },
  {
   "cell_type": "code",
   "execution_count": 39,
   "metadata": {},
   "outputs": [
    {
     "data": {
      "text/plain": [
       "<matplotlib.text.Text at 0x221187b8>"
      ]
     },
     "execution_count": 39,
     "metadata": {},
     "output_type": "execute_result"
    },
    {
     "data": {
      "image/png": "[encoded data removed]",
      "text/plain": [
       "<matplotlib.figure.Figure at 0x2039bb70>"
      ]
     },
     "metadata": {},
     "output_type": "display_data"
    }
   ],
   "source": [
    "(sj_train_features\n",
    "     .ndvi_ne\n",
    "     .plot\n",
    "     .line(lw=0.8))\n",
    "\n",
    "plt.title('Vegetation Index over Time')\n",
    "plt.xlabel('Time')"
   ]
  },
  {
   "cell_type": "code",
   "execution_count": 40,
   "metadata": {
    "collapsed": true
   },
   "outputs": [],
   "source": [
    "sj_train_features.fillna(method='ffill', inplace=True)\n",
    "#sj_train_features.fillna(method='bfill', inplace=True)\n",
    "iq_train_features.fillna(method='ffill', inplace=True)\n",
    "#iq_train_features.fillna(method='bfill', inplace=True)"
   ]
  },
  {
   "cell_type": "code",
   "execution_count": 41,
   "metadata": {},
   "outputs": [
    {
     "name": "stdout",
     "output_type": "stream",
     "text": [
      "San Juan\n",
      "mean:  34.1805555556\n",
      "var : 2640.04543969\n",
      "\n",
      "Iquitos\n",
      "mean:  7.56538461538\n",
      "var : 115.895523937\n"
     ]
    }
   ],
   "source": [
    "print('San Juan')\n",
    "print('mean: ', sj_train_labels.mean()[0])\n",
    "print('var :', sj_train_labels.var()[0])\n",
    "\n",
    "print('\\nIquitos')\n",
    "print('mean: ', iq_train_labels.mean()[0])\n",
    "print('var :', iq_train_labels.var()[0])"
   ]
  },
  {
   "cell_type": "code",
   "execution_count": 42,
   "metadata": {},
   "outputs": [
    {
     "data": {
      "text/plain": [
       "array([[<matplotlib.axes._subplots.AxesSubplot object at 0x00000000221842E8>]], dtype=object)"
      ]
     },
     "execution_count": 42,
     "metadata": {},
     "output_type": "execute_result"
    },
    {
     "data": {
      "image/png": "[encoded data removed]",
      "text/plain": [
       "<matplotlib.figure.Figure at 0x2249c9e8>"
      ]
     },
     "metadata": {},
     "output_type": "display_data"
    }
   ],
   "source": [
    "sj_train_labels.hist()"
   ]
  },
  {
   "cell_type": "code",
   "execution_count": 43,
   "metadata": {},
   "outputs": [
    {
     "data": {
      "text/plain": [
       "array([[<matplotlib.axes._subplots.AxesSubplot object at 0x000000002269F6A0>]], dtype=object)"
      ]
     },
     "execution_count": 43,
     "metadata": {},
     "output_type": "execute_result"
    },
    {
     "data": {
      "image/png": "[encoded data removed]",
      "text/plain": [
       "<matplotlib.figure.Figure at 0x227bf5f8>"
      ]
     },
     "metadata": {},
     "output_type": "display_data"
    }
   ],
   "source": [
    "iq_train_labels.hist()"
   ]
  },
  {
   "cell_type": "code",
   "execution_count": 44,
   "metadata": {
    "collapsed": true
   },
   "outputs": [],
   "source": [
    "sj_train_features['total_cases'] = sj_train_labels.total_cases\n",
    "iq_train_features['total_cases'] = iq_train_labels.total_cases"
   ]
  },
  {
   "cell_type": "code",
   "execution_count": 45,
   "metadata": {
    "collapsed": true
   },
   "outputs": [],
   "source": [
    "#sj_train_features.head()"
   ]
  },
  {
   "cell_type": "code",
   "execution_count": 46,
   "metadata": {
    "collapsed": true
   },
   "outputs": [],
   "source": [
    "# compute the correlations\n",
    "sj_correlations = sj_train_features.corr()\n",
    "iq_correlations = iq_train_features.corr()"
   ]
  },
  {
   "cell_type": "code",
   "execution_count": 47,
   "metadata": {},
   "outputs": [
    {
     "data": {
      "text/plain": [
       "<matplotlib.text.Text at 0x22968be0>"
      ]
     },
     "execution_count": 47,
     "metadata": {},
     "output_type": "execute_result"
    },
    {
     "data": {
      "image/png": "[encoded data removed]",
      "text/plain": [
       "<matplotlib.figure.Figure at 0x2293b128>"
      ]
     },
     "metadata": {},
     "output_type": "display_data"
    }
   ],
   "source": [
    "# plot san juan\n",
    "sj_corr_heat = sns.heatmap(sj_correlations)\n",
    "plt.title('San Juan Variable Correlations')"
   ]
  },
  {
   "cell_type": "code",
   "execution_count": 48,
   "metadata": {},
   "outputs": [
    {
     "data": {
      "text/plain": [
       "<matplotlib.text.Text at 0x25de22b0>"
      ]
     },
     "execution_count": 48,
     "metadata": {},
     "output_type": "execute_result"
    },
    {
     "data": {
      "image/png": "[encoded data removed]",
      "text/plain": [
       "<matplotlib.figure.Figure at 0x25e60080>"
      ]
     },
     "metadata": {},
     "output_type": "display_data"
    }
   ],
   "source": [
    "iq_corr_heat = sns.heatmap(iq_correlations)\n",
    "plt.title('Iquitos Variable Correlations')"
   ]
  },
  {
   "cell_type": "code",
   "execution_count": 49,
   "metadata": {},
   "outputs": [
    {
     "data": {
      "text/plain": [
       "<matplotlib.axes._subplots.AxesSubplot at 0x26344ba8>"
      ]
     },
     "execution_count": 49,
     "metadata": {},
     "output_type": "execute_result"
    },
    {
     "data": {
      "image/png": "[encoded data removed]",
      "text/plain": [
       "<matplotlib.figure.Figure at 0x2634fcc0>"
      ]
     },
     "metadata": {},
     "output_type": "display_data"
    }
   ],
   "source": [
    "# San Juan\n",
    "(sj_correlations\n",
    "     .total_cases\n",
    "     .drop('total_cases') # don't compare with myself\n",
    "     .sort_values(ascending=False)\n",
    "     .plot\n",
    "     .barh())"
   ]
  },
  {
   "cell_type": "code",
   "execution_count": 50,
   "metadata": {},
   "outputs": [
    {
     "data": {
      "text/plain": [
       "<matplotlib.axes._subplots.AxesSubplot at 0x26418ef0>"
      ]
     },
     "execution_count": 50,
     "metadata": {},
     "output_type": "execute_result"
    },
    {
     "data": {
      "image/png": "[encoded data removed]",
      "text/plain": [
       "<matplotlib.figure.Figure at 0x266a57f0>"
      ]
     },
     "metadata": {},
     "output_type": "display_data"
    }
   ],
   "source": [
    "# Iquitos\n",
    "(iq_correlations\n",
    "     .total_cases\n",
    "     .drop('total_cases') # don't compare with myself\n",
    "     .sort_values(ascending=False)\n",
    "     .plot\n",
    "     .barh())"
   ]
  },
  {
   "cell_type": "code",
   "execution_count": 59,
   "metadata": {
    "collapsed": true
   },
   "outputs": [],
   "source": [
    "def preprocess_data(data_path, labels_path=None):\n",
    "    # load data and set index to city, year, weekofyear\n",
    "    df = pd.read_csv(data_path, index_col=[0, 1, 2])\n",
    "    \n",
    "    # select features we want\n",
    "    features = ['reanalysis_specific_humidity_g_per_kg', \n",
    "                 'reanalysis_dew_point_temp_k', \n",
    "                 'station_avg_temp_c', \n",
    "                 'station_min_temp_c',\n",
    "                 'reanalysis_min_air_temp_k']\n",
    "    df = df[features]\n",
    "    \n",
    "    # fill missing values\n",
    "    df.fillna(method='ffill', inplace=True)\n",
    "\n",
    "    # add labels to dataframe\n",
    "    if labels_path:\n",
    "        labels = pd.read_csv(labels_path, index_col=[0, 1, 2])\n",
    "        df = df.join(labels)\n",
    "    \n",
    "    # separate san juan and iquitos\n",
    "    sj = df.loc['sj']\n",
    "    iq = df.loc['iq']\n",
    "    \n",
    "    return sj, iq"
   ]
  },
  {
   "cell_type": "code",
   "execution_count": 60,
   "metadata": {
    "collapsed": true
   },
   "outputs": [],
   "source": [
    "sj_train, iq_train = preprocess_data('data-processed/dengue_features_train.csv',\n",
    "                                    labels_path=\"data-processed/dengue_labels_train.csv\")"
   ]
  },
  {
   "cell_type": "code",
   "execution_count": 61,
   "metadata": {},
   "outputs": [
    {
     "data": {
      "text/html": [
       "<div>\n",
       "<table border=\"1\" class=\"dataframe\">\n",
       "  <thead>\n",
       "    <tr style=\"text-align: right;\">\n",
       "      <th></th>\n",
       "      <th>reanalysis_specific_humidity_g_per_kg</th>\n",
       "      <th>reanalysis_dew_point_temp_k</th>\n",
       "      <th>station_avg_temp_c</th>\n",
       "      <th>station_min_temp_c</th>\n",
       "      <th>reanalysis_min_air_temp_k</th>\n",
       "      <th>reanalysis_relative_humidity_percent</th>\n",
       "      <th>total_cases</th>\n",
       "    </tr>\n",
       "  </thead>\n",
       "  <tbody>\n",
       "    <tr>\n",
       "      <th>count</th>\n",
       "      <td>936.000000</td>\n",
       "      <td>936.000000</td>\n",
       "      <td>936.000000</td>\n",
       "      <td>936.000000</td>\n",
       "      <td>936.000000</td>\n",
       "      <td>936.000000</td>\n",
       "      <td>936.000000</td>\n",
       "    </tr>\n",
       "    <tr>\n",
       "      <th>mean</th>\n",
       "      <td>16.547535</td>\n",
       "      <td>295.104736</td>\n",
       "      <td>26.999191</td>\n",
       "      <td>22.594017</td>\n",
       "      <td>297.297863</td>\n",
       "      <td>78.570324</td>\n",
       "      <td>34.180556</td>\n",
       "    </tr>\n",
       "    <tr>\n",
       "      <th>std</th>\n",
       "      <td>1.560663</td>\n",
       "      <td>1.570075</td>\n",
       "      <td>1.415079</td>\n",
       "      <td>1.506281</td>\n",
       "      <td>1.295172</td>\n",
       "      <td>3.384775</td>\n",
       "      <td>51.381372</td>\n",
       "    </tr>\n",
       "    <tr>\n",
       "      <th>min</th>\n",
       "      <td>11.715714</td>\n",
       "      <td>289.642857</td>\n",
       "      <td>22.842857</td>\n",
       "      <td>17.800000</td>\n",
       "      <td>292.600000</td>\n",
       "      <td>66.735714</td>\n",
       "      <td>0.000000</td>\n",
       "    </tr>\n",
       "    <tr>\n",
       "      <th>25%</th>\n",
       "      <td>15.233571</td>\n",
       "      <td>293.843929</td>\n",
       "      <td>25.842857</td>\n",
       "      <td>21.700000</td>\n",
       "      <td>296.300000</td>\n",
       "      <td>76.246786</td>\n",
       "      <td>9.000000</td>\n",
       "    </tr>\n",
       "    <tr>\n",
       "      <th>50%</th>\n",
       "      <td>16.835000</td>\n",
       "      <td>295.451429</td>\n",
       "      <td>27.214286</td>\n",
       "      <td>22.800000</td>\n",
       "      <td>297.500000</td>\n",
       "      <td>78.667857</td>\n",
       "      <td>19.000000</td>\n",
       "    </tr>\n",
       "    <tr>\n",
       "      <th>75%</th>\n",
       "      <td>17.854286</td>\n",
       "      <td>296.415714</td>\n",
       "      <td>28.175000</td>\n",
       "      <td>23.900000</td>\n",
       "      <td>298.400000</td>\n",
       "      <td>80.952500</td>\n",
       "      <td>37.000000</td>\n",
       "    </tr>\n",
       "    <tr>\n",
       "      <th>max</th>\n",
       "      <td>19.440000</td>\n",
       "      <td>297.795714</td>\n",
       "      <td>30.071429</td>\n",
       "      <td>25.600000</td>\n",
       "      <td>299.900000</td>\n",
       "      <td>87.575714</td>\n",
       "      <td>461.000000</td>\n",
       "    </tr>\n",
       "  </tbody>\n",
       "</table>\n",
       "</div>"
      ],
      "text/plain": [
       "       reanalysis_specific_humidity_g_per_kg  reanalysis_dew_point_temp_k  \\\n",
       "count                             936.000000                   936.000000   \n",
       "mean                               16.547535                   295.104736   \n",
       "std                                 1.560663                     1.570075   \n",
       "min                                11.715714                   289.642857   \n",
       "25%                                15.233571                   293.843929   \n",
       "50%                                16.835000                   295.451429   \n",
       "75%                                17.854286                   296.415714   \n",
       "max                                19.440000                   297.795714   \n",
       "\n",
       "       station_avg_temp_c  station_min_temp_c  reanalysis_min_air_temp_k  \\\n",
       "count          936.000000          936.000000                 936.000000   \n",
       "mean            26.999191           22.594017                 297.297863   \n",
       "std              1.415079            1.506281                   1.295172   \n",
       "min             22.842857           17.800000                 292.600000   \n",
       "25%             25.842857           21.700000                 296.300000   \n",
       "50%             27.214286           22.800000                 297.500000   \n",
       "75%             28.175000           23.900000                 298.400000   \n",
       "max             30.071429           25.600000                 299.900000   \n",
       "\n",
       "       reanalysis_relative_humidity_percent  total_cases  \n",
       "count                            936.000000   936.000000  \n",
       "mean                              78.570324    34.180556  \n",
       "std                                3.384775    51.381372  \n",
       "min                               66.735714     0.000000  \n",
       "25%                               76.246786     9.000000  \n",
       "50%                               78.667857    19.000000  \n",
       "75%                               80.952500    37.000000  \n",
       "max                               87.575714   461.000000  "
      ]
     },
     "execution_count": 61,
     "metadata": {},
     "output_type": "execute_result"
    }
   ],
   "source": [
    "sj_train.describe()"
   ]
  },
  {
   "cell_type": "code",
   "execution_count": 62,
   "metadata": {},
   "outputs": [
    {
     "data": {
      "text/html": [
       "<div>\n",
       "<table border=\"1\" class=\"dataframe\">\n",
       "  <thead>\n",
       "    <tr style=\"text-align: right;\">\n",
       "      <th></th>\n",
       "      <th>reanalysis_specific_humidity_g_per_kg</th>\n",
       "      <th>reanalysis_dew_point_temp_k</th>\n",
       "      <th>station_avg_temp_c</th>\n",
       "      <th>station_min_temp_c</th>\n",
       "      <th>reanalysis_min_air_temp_k</th>\n",
       "      <th>reanalysis_relative_humidity_percent</th>\n",
       "      <th>total_cases</th>\n",
       "    </tr>\n",
       "  </thead>\n",
       "  <tbody>\n",
       "    <tr>\n",
       "      <th>count</th>\n",
       "      <td>520.000000</td>\n",
       "      <td>520.000000</td>\n",
       "      <td>520.000000</td>\n",
       "      <td>520.000000</td>\n",
       "      <td>520.000000</td>\n",
       "      <td>520.000000</td>\n",
       "      <td>520.000000</td>\n",
       "    </tr>\n",
       "    <tr>\n",
       "      <th>mean</th>\n",
       "      <td>17.102019</td>\n",
       "      <td>295.498723</td>\n",
       "      <td>27.506331</td>\n",
       "      <td>21.210385</td>\n",
       "      <td>292.879038</td>\n",
       "      <td>88.666786</td>\n",
       "      <td>7.565385</td>\n",
       "    </tr>\n",
       "    <tr>\n",
       "      <th>std</th>\n",
       "      <td>1.443048</td>\n",
       "      <td>1.414360</td>\n",
       "      <td>0.908973</td>\n",
       "      <td>1.257734</td>\n",
       "      <td>1.662983</td>\n",
       "      <td>7.580526</td>\n",
       "      <td>10.765478</td>\n",
       "    </tr>\n",
       "    <tr>\n",
       "      <th>min</th>\n",
       "      <td>12.111429</td>\n",
       "      <td>290.088571</td>\n",
       "      <td>21.400000</td>\n",
       "      <td>14.700000</td>\n",
       "      <td>286.900000</td>\n",
       "      <td>57.787143</td>\n",
       "      <td>0.000000</td>\n",
       "    </tr>\n",
       "    <tr>\n",
       "      <th>25%</th>\n",
       "      <td>16.121429</td>\n",
       "      <td>294.596429</td>\n",
       "      <td>26.957500</td>\n",
       "      <td>20.600000</td>\n",
       "      <td>292.000000</td>\n",
       "      <td>84.295000</td>\n",
       "      <td>1.000000</td>\n",
       "    </tr>\n",
       "    <tr>\n",
       "      <th>50%</th>\n",
       "      <td>17.428571</td>\n",
       "      <td>295.852143</td>\n",
       "      <td>27.587500</td>\n",
       "      <td>21.400000</td>\n",
       "      <td>293.100000</td>\n",
       "      <td>90.942857</td>\n",
       "      <td>5.000000</td>\n",
       "    </tr>\n",
       "    <tr>\n",
       "      <th>75%</th>\n",
       "      <td>18.180357</td>\n",
       "      <td>296.557143</td>\n",
       "      <td>28.075000</td>\n",
       "      <td>22.000000</td>\n",
       "      <td>294.200000</td>\n",
       "      <td>94.589643</td>\n",
       "      <td>9.000000</td>\n",
       "    </tr>\n",
       "    <tr>\n",
       "      <th>max</th>\n",
       "      <td>20.461429</td>\n",
       "      <td>298.450000</td>\n",
       "      <td>30.800000</td>\n",
       "      <td>24.200000</td>\n",
       "      <td>296.000000</td>\n",
       "      <td>98.610000</td>\n",
       "      <td>116.000000</td>\n",
       "    </tr>\n",
       "  </tbody>\n",
       "</table>\n",
       "</div>"
      ],
      "text/plain": [
       "       reanalysis_specific_humidity_g_per_kg  reanalysis_dew_point_temp_k  \\\n",
       "count                             520.000000                   520.000000   \n",
       "mean                               17.102019                   295.498723   \n",
       "std                                 1.443048                     1.414360   \n",
       "min                                12.111429                   290.088571   \n",
       "25%                                16.121429                   294.596429   \n",
       "50%                                17.428571                   295.852143   \n",
       "75%                                18.180357                   296.557143   \n",
       "max                                20.461429                   298.450000   \n",
       "\n",
       "       station_avg_temp_c  station_min_temp_c  reanalysis_min_air_temp_k  \\\n",
       "count          520.000000          520.000000                 520.000000   \n",
       "mean            27.506331           21.210385                 292.879038   \n",
       "std              0.908973            1.257734                   1.662983   \n",
       "min             21.400000           14.700000                 286.900000   \n",
       "25%             26.957500           20.600000                 292.000000   \n",
       "50%             27.587500           21.400000                 293.100000   \n",
       "75%             28.075000           22.000000                 294.200000   \n",
       "max             30.800000           24.200000                 296.000000   \n",
       "\n",
       "       reanalysis_relative_humidity_percent  total_cases  \n",
       "count                            520.000000   520.000000  \n",
       "mean                              88.666786     7.565385  \n",
       "std                                7.580526    10.765478  \n",
       "min                               57.787143     0.000000  \n",
       "25%                               84.295000     1.000000  \n",
       "50%                               90.942857     5.000000  \n",
       "75%                               94.589643     9.000000  \n",
       "max                               98.610000   116.000000  "
      ]
     },
     "execution_count": 62,
     "metadata": {},
     "output_type": "execute_result"
    }
   ],
   "source": [
    "iq_train.describe()"
   ]
  },
  {
   "cell_type": "code",
   "execution_count": 63,
   "metadata": {
    "collapsed": true
   },
   "outputs": [],
   "source": [
    "sj_train_subtrain = sj_train.head(800)\n",
    "sj_train_subtest = sj_train.tail(sj_train.shape[0] - 800)\n",
    "\n",
    "iq_train_subtrain = iq_train.head(400)\n",
    "iq_train_subtest = iq_train.tail(iq_train.shape[0] - 400)"
   ]
  },
  {
   "cell_type": "code",
   "execution_count": 64,
   "metadata": {},
   "outputs": [
    {
     "name": "stdout",
     "output_type": "stream",
     "text": [
      "best alpha =  1e-08\n",
      "best score =  21.1838235294\n",
      "best alpha =  1e-08\n",
      "best score =  6.43333333333\n"
     ]
    }
   ],
   "source": [
    "from statsmodels.tools import eval_measures\n",
    "import statsmodels.formula.api as smf\n",
    "\n",
    "def get_best_model(train, test):\n",
    "    # Step 1: specify the form of the model\n",
    "    model_formula = \"total_cases ~ 1 + \" \\\n",
    "                    \"reanalysis_specific_humidity_g_per_kg + \" \\\n",
    "                    \"reanalysis_dew_point_temp_k + \" \\\n",
    "                    \"station_min_temp_c + \" \\\n",
    "                    \"station_avg_temp_c +\" \\\n",
    "                    \"reanalysis_min_air_temp_k\"\n",
    "    \n",
    "    grid = 10 ** np.arange(-8, -3, dtype=np.float64)\n",
    "                    \n",
    "    best_alpha = []\n",
    "    best_score = 1000\n",
    "        \n",
    "    # Step 2: Find the best hyper parameter, alpha\n",
    "    for alpha in grid:\n",
    "        model = smf.glm(formula=model_formula,\n",
    "                        data=train,\n",
    "                        family=sm.families.NegativeBinomial(alpha=alpha))\n",
    "\n",
    "        results = model.fit()\n",
    "        predictions = results.predict(test).astype(int)\n",
    "        score = eval_measures.meanabs(predictions, test.total_cases)\n",
    "\n",
    "        if score < best_score:\n",
    "            best_alpha = alpha\n",
    "            best_score = score\n",
    "\n",
    "    print('best alpha = ', best_alpha)\n",
    "    print('best score = ', best_score)\n",
    "            \n",
    "    # Step 3: refit on entire dataset\n",
    "    full_dataset = pd.concat([train, test])\n",
    "    model = smf.glm(formula=model_formula,\n",
    "                    data=full_dataset,\n",
    "                    family=sm.families.NegativeBinomial(alpha=best_alpha))\n",
    "\n",
    "    fitted_model = model.fit()\n",
    "    return fitted_model\n",
    "    \n",
    "sj_best_model = get_best_model(sj_train_subtrain, sj_train_subtest)\n",
    "iq_best_model = get_best_model(iq_train_subtrain, iq_train_subtest)"
   ]
  },
  {
   "cell_type": "code",
   "execution_count": 65,
   "metadata": {},
   "outputs": [
    {
     "data": {
      "text/plain": [
       "<matplotlib.legend.Legend at 0x26afa518>"
      ]
     },
     "execution_count": 65,
     "metadata": {},
     "output_type": "execute_result"
    },
    {
     "data": {
      "image/png": "[encoded data removed]",
      "text/plain": [
       "<matplotlib.figure.Figure at 0x26c5b550>"
      ]
     },
     "metadata": {},
     "output_type": "display_data"
    }
   ],
   "source": [
    "figs, axes = plt.subplots(nrows=2, ncols=1)\n",
    "\n",
    "# plot sj\n",
    "sj_train['fitted'] = sj_best_model.fittedvalues\n",
    "sj_train.fitted.plot(ax=axes[0], label=\"Predictions\")\n",
    "sj_train.total_cases.plot(ax=axes[0], label=\"Actual\")\n",
    "\n",
    "# plot iq\n",
    "iq_train['fitted'] = iq_best_model.fittedvalues\n",
    "iq_train.fitted.plot(ax=axes[1], label=\"Predictions\")\n",
    "iq_train.total_cases.plot(ax=axes[1], label=\"Actual\")\n",
    "\n",
    "plt.suptitle(\"Dengue Predicted Cases vs. Actual Cases\")\n",
    "plt.legend()"
   ]
  },
  {
   "cell_type": "code",
   "execution_count": 66,
   "metadata": {
    "collapsed": true
   },
   "outputs": [],
   "source": [
    "sj_test, iq_test = preprocess_data('data-processed/dengue_features_test.csv')\n",
    "\n",
    "sj_predictions = sj_best_model.predict(sj_test).astype(int)\n",
    "iq_predictions = iq_best_model.predict(iq_test).astype(int)\n",
    "\n",
    "submission = pd.read_csv(\"data-processed/submission_format.csv\",\n",
    "                         index_col=[0, 1, 2])\n",
    "\n",
    "submission.total_cases = np.concatenate([sj_predictions, iq_predictions])\n",
    "submission.to_csv(\"data-processed/benchmark.csv\")"
   ]
  },
  {
   "cell_type": "code",
   "execution_count": null,
   "metadata": {
    "collapsed": true
   },
   "outputs": [],
   "source": []
  },
  {
   "cell_type": "code",
   "execution_count": null,
   "metadata": {
    "collapsed": true
   },
   "outputs": [],
   "source": []
  },
  {
   "cell_type": "code",
   "execution_count": null,
   "metadata": {
    "collapsed": true
   },
   "outputs": [],
   "source": []
  },
  {
   "cell_type": "code",
   "execution_count": null,
   "metadata": {
    "collapsed": true
   },
   "outputs": [],
   "source": []
  }
 ],
 "metadata": {
  "kernelspec": {
   "display_name": "Python 2",
   "language": "python",
   "name": "python2"
  },
  "language_info": {
   "codemirror_mode": {
    "name": "ipython",
    "version": 2
   },
   "file_extension": ".py",
   "mimetype": "text/x-python",
   "name": "python",
   "nbconvert_exporter": "python",
   "pygments_lexer": "ipython2",
   "version": "2.7.13"
  }
 },
 "nbformat": 4,
 "nbformat_minor": 1
}
